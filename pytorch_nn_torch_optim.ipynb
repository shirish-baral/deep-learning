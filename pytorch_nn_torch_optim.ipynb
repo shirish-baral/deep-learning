{
  "nbformat": 4,
  "nbformat_minor": 0,
  "metadata": {
    "colab": {
      "provenance": [],
      "authorship_tag": "ABX9TyPTIaN16h5GgqLnFYhiysLD",
      "include_colab_link": true
    },
    "kernelspec": {
      "name": "python3",
      "display_name": "Python 3"
    },
    "language_info": {
      "name": "python"
    }
  },
  "cells": [
    {
      "cell_type": "markdown",
      "metadata": {
        "id": "view-in-github",
        "colab_type": "text"
      },
      "source": [
        "<a href=\"https://colab.research.google.com/github/shirish-baral/deep-learning/blob/main/pytorch_nn_torch_optim.ipynb\" target=\"_parent\"><img src=\"https://colab.research.google.com/assets/colab-badge.svg\" alt=\"Open In Colab\"/></a>"
      ]
    },
    {
      "cell_type": "markdown",
      "source": [
        "**Changes to be done  -  Not Manually required:**\n",
        "\n",
        "nn module will create neurons and modules\n",
        "\n",
        "use built-in loss function\n",
        "\n",
        "use built-in activation function\n",
        "\n",
        "update parameteres using built-in optimizer\n",
        "\n"
      ],
      "metadata": {
        "id": "IdUZz3AfJCha"
      }
    },
    {
      "cell_type": "code",
      "source": [
        "# create model class\n",
        "# 5 input -> one activation function -> one output\n",
        "\n",
        "import torch\n",
        "import torch.nn as nn\n",
        "\n",
        "class Model(nn.Module):\n",
        "  def __init__(self, num_features):\n",
        "    super().__init__()\n",
        "    self.linear = nn.Linear(num_features, 1) #single neuron - 5 input, 1 output\n",
        "    self.sigmoid = nn.Sigmoid()\n",
        "\n",
        "  def forward(self, features):\n",
        "    out = self.linear(features)\n",
        "    out = self.sigmoid(out)\n",
        "    return out"
      ],
      "metadata": {
        "id": "N2Z_N74ZJjfE"
      },
      "execution_count": 42,
      "outputs": []
    },
    {
      "cell_type": "code",
      "source": [
        "#create dataset\n",
        "features = torch.rand(10,5) # 5 columns because 5 features\n",
        "\n",
        "#create model\n",
        "model = Model(features.shape[1]) # create model object with 5 features\n",
        "\n",
        "# call model for froward pass\n",
        "model(features) #forward method is triggered when model is called\n"
      ],
      "metadata": {
        "colab": {
          "base_uri": "https://localhost:8080/"
        },
        "id": "lLWG_cekKZNF",
        "outputId": "a3aa2207-66d2-4de7-8ed5-2e95de3f15b0"
      },
      "execution_count": 43,
      "outputs": [
        {
          "output_type": "execute_result",
          "data": {
            "text/plain": [
              "tensor([[0.4545],\n",
              "        [0.4576],\n",
              "        [0.4449],\n",
              "        [0.4290],\n",
              "        [0.5402],\n",
              "        [0.4392],\n",
              "        [0.4712],\n",
              "        [0.4923],\n",
              "        [0.4389],\n",
              "        [0.4395]], grad_fn=<SigmoidBackward0>)"
            ]
          },
          "metadata": {},
          "execution_count": 43
        }
      ]
    },
    {
      "cell_type": "code",
      "source": [
        "#show model weights\n",
        "model.linear.weight"
      ],
      "metadata": {
        "colab": {
          "base_uri": "https://localhost:8080/"
        },
        "id": "pC1-THB-Lw_e",
        "outputId": "d79ce04b-4631-4659-dc78-bbd9018f8f69"
      },
      "execution_count": 44,
      "outputs": [
        {
          "output_type": "execute_result",
          "data": {
            "text/plain": [
              "Parameter containing:\n",
              "tensor([[ 0.0451, -0.4285, -0.0603,  0.2698,  0.3139]], requires_grad=True)"
            ]
          },
          "metadata": {},
          "execution_count": 44
        }
      ]
    },
    {
      "cell_type": "code",
      "source": [
        "model.linear.bias"
      ],
      "metadata": {
        "colab": {
          "base_uri": "https://localhost:8080/"
        },
        "id": "lbaZ3QyBMtP3",
        "outputId": "200c658a-9f95-45c6-ba3e-b07a4d767f2f"
      },
      "execution_count": 45,
      "outputs": [
        {
          "output_type": "execute_result",
          "data": {
            "text/plain": [
              "Parameter containing:\n",
              "tensor([-0.2273], requires_grad=True)"
            ]
          },
          "metadata": {},
          "execution_count": 45
        }
      ]
    },
    {
      "cell_type": "code",
      "source": [
        "!pip install torchinfo"
      ],
      "metadata": {
        "colab": {
          "base_uri": "https://localhost:8080/"
        },
        "id": "BpuS1deKM8oD",
        "outputId": "f8d86a7d-aa10-4705-c37b-65f62d98e731"
      },
      "execution_count": 46,
      "outputs": [
        {
          "output_type": "stream",
          "name": "stdout",
          "text": [
            "Requirement already satisfied: torchinfo in /usr/local/lib/python3.11/dist-packages (1.8.0)\n"
          ]
        }
      ]
    },
    {
      "cell_type": "code",
      "source": [
        "from torchinfo import summary"
      ],
      "metadata": {
        "id": "hXekJAfqNAu3"
      },
      "execution_count": 47,
      "outputs": []
    },
    {
      "cell_type": "code",
      "source": [
        "summary(model, input_size=(10,5))"
      ],
      "metadata": {
        "colab": {
          "base_uri": "https://localhost:8080/"
        },
        "id": "v112sRiRNE9y",
        "outputId": "247ed07f-db6e-4f10-e372-85af304c3ccc"
      },
      "execution_count": 48,
      "outputs": [
        {
          "output_type": "execute_result",
          "data": {
            "text/plain": [
              "==========================================================================================\n",
              "Layer (type:depth-idx)                   Output Shape              Param #\n",
              "==========================================================================================\n",
              "Model                                    [10, 1]                   --\n",
              "├─Linear: 1-1                            [10, 1]                   6\n",
              "├─Sigmoid: 1-2                           [10, 1]                   --\n",
              "==========================================================================================\n",
              "Total params: 6\n",
              "Trainable params: 6\n",
              "Non-trainable params: 0\n",
              "Total mult-adds (Units.MEGABYTES): 0.00\n",
              "==========================================================================================\n",
              "Input size (MB): 0.00\n",
              "Forward/backward pass size (MB): 0.00\n",
              "Params size (MB): 0.00\n",
              "Estimated Total Size (MB): 0.00\n",
              "=========================================================================================="
            ]
          },
          "metadata": {},
          "execution_count": 48
        }
      ]
    },
    {
      "cell_type": "markdown",
      "source": [
        "# **Input -> Hidden -> Ouput**"
      ],
      "metadata": {
        "id": "AYZKQoLFRL7V"
      }
    },
    {
      "cell_type": "markdown",
      "source": [
        "Input Layer (5) -> Hidden_1 (3) -> Output (1) -> y_pred\n",
        "\n",
        "              ReLU             Sigmoid\n",
        "\n",
        "5x3 + 3x1 = 18 weights, 3x1 + 1 = 4 biases"
      ],
      "metadata": {
        "id": "ka5YIKUaNlwv"
      }
    },
    {
      "cell_type": "code",
      "source": [
        "# create model class\n",
        "\n",
        "import torch\n",
        "import torch.nn as nn\n",
        "\n",
        "class Model(nn.Module):\n",
        "  def __init__(self, num_features):\n",
        "    super().__init__()\n",
        "    self.network = nn.Sequential(\n",
        "        nn.Linear(num_features, 3),\n",
        "        nn.ReLU(),\n",
        "        nn.Linear(3, 1),\n",
        "        nn.Sigmoid()\n",
        "    )\n",
        "  def forward(self, features):\n",
        "    out = self.network(features)\n",
        "    return out"
      ],
      "metadata": {
        "id": "QX5xw6kONKBr"
      },
      "execution_count": 71,
      "outputs": []
    },
    {
      "cell_type": "code",
      "source": [
        "#create dataset\n",
        "features = torch.rand(10,5) # 5 columns because 5 features\n",
        "\n",
        "#create model\n",
        "model = Model(features.shape[1]) # create model object with 5 features\n",
        "\n",
        "# call model for froward pass\n",
        "model(features) #forward method is triggered when model is called\n"
      ],
      "metadata": {
        "colab": {
          "base_uri": "https://localhost:8080/"
        },
        "id": "Q03ckezqPFX0",
        "outputId": "58c1f58a-1432-45ad-d931-2de417422634"
      },
      "execution_count": 66,
      "outputs": [
        {
          "output_type": "execute_result",
          "data": {
            "text/plain": [
              "tensor([[0.4767],\n",
              "        [0.4444],\n",
              "        [0.4762],\n",
              "        [0.4510],\n",
              "        [0.4809],\n",
              "        [0.4449],\n",
              "        [0.4634],\n",
              "        [0.4353],\n",
              "        [0.5271],\n",
              "        [0.4847]], grad_fn=<SigmoidBackward0>)"
            ]
          },
          "metadata": {},
          "execution_count": 66
        }
      ]
    },
    {
      "cell_type": "code",
      "source": [
        "# weight of input-hidden layer\n",
        "model.linear1.weight"
      ],
      "metadata": {
        "colab": {
          "base_uri": "https://localhost:8080/"
        },
        "id": "TI60vtYhSrRD",
        "outputId": "39549ef8-7484-40ec-b166-60159e23f995"
      },
      "execution_count": 67,
      "outputs": [
        {
          "output_type": "execute_result",
          "data": {
            "text/plain": [
              "Parameter containing:\n",
              "tensor([[-0.1067,  0.3023,  0.0916,  0.3763,  0.3080],\n",
              "        [-0.3262,  0.1168,  0.0091,  0.3860, -0.3537],\n",
              "        [-0.0068,  0.2425, -0.4054,  0.3668,  0.2942]], requires_grad=True)"
            ]
          },
          "metadata": {},
          "execution_count": 67
        }
      ]
    },
    {
      "cell_type": "code",
      "source": [
        "# weight of hidden-output layer\n",
        "print(model.linear2.weight)\n",
        "print(f'Biases {model.linear2.bias}')"
      ],
      "metadata": {
        "colab": {
          "base_uri": "https://localhost:8080/"
        },
        "id": "pgFLo6PcPNYa",
        "outputId": "9207e455-8868-4d2c-8482-391269be6cf0"
      },
      "execution_count": 68,
      "outputs": [
        {
          "output_type": "stream",
          "name": "stdout",
          "text": [
            "Parameter containing:\n",
            "tensor([[0.4720, 0.1836, 0.2916]], requires_grad=True)\n",
            "Biases Parameter containing:\n",
            "tensor([-0.2652], requires_grad=True)\n"
          ]
        }
      ]
    },
    {
      "cell_type": "code",
      "source": [
        "from torchinfo import summary\n",
        "summary(model, input_size=(10,5))"
      ],
      "metadata": {
        "colab": {
          "base_uri": "https://localhost:8080/"
        },
        "id": "VFLDgDIwPWTc",
        "outputId": "3b916ba1-84a4-4d7c-bdef-32b8f59111c5"
      },
      "execution_count": 69,
      "outputs": [
        {
          "output_type": "execute_result",
          "data": {
            "text/plain": [
              "==========================================================================================\n",
              "Layer (type:depth-idx)                   Output Shape              Param #\n",
              "==========================================================================================\n",
              "Model                                    [10, 1]                   --\n",
              "├─Linear: 1-1                            [10, 3]                   18\n",
              "├─ReLU: 1-2                              [10, 3]                   --\n",
              "├─Linear: 1-3                            [10, 1]                   4\n",
              "├─Sigmoid: 1-4                           [10, 1]                   --\n",
              "==========================================================================================\n",
              "Total params: 22\n",
              "Trainable params: 22\n",
              "Non-trainable params: 0\n",
              "Total mult-adds (Units.MEGABYTES): 0.00\n",
              "==========================================================================================\n",
              "Input size (MB): 0.00\n",
              "Forward/backward pass size (MB): 0.00\n",
              "Params size (MB): 0.00\n",
              "Estimated Total Size (MB): 0.00\n",
              "=========================================================================================="
            ]
          },
          "metadata": {},
          "execution_count": 69
        }
      ]
    },
    {
      "cell_type": "code",
      "source": [],
      "metadata": {
        "id": "eouIwd3ePxcJ"
      },
      "execution_count": 56,
      "outputs": []
    }
  ]
}