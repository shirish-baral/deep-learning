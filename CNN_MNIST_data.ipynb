{
  "nbformat": 4,
  "nbformat_minor": 0,
  "metadata": {
    "colab": {
      "provenance": [],
      "authorship_tag": "ABX9TyNeN2z/bUJxeqP8z9Jzm5C3",
      "include_colab_link": true
    },
    "kernelspec": {
      "name": "python3",
      "display_name": "Python 3"
    },
    "language_info": {
      "name": "python"
    }
  },
  "cells": [
    {
      "cell_type": "markdown",
      "metadata": {
        "id": "view-in-github",
        "colab_type": "text"
      },
      "source": [
        "<a href=\"https://colab.research.google.com/github/shirish-baral/deep-learning/blob/main/CNN_MNIST_data.ipynb\" target=\"_parent\"><img src=\"https://colab.research.google.com/assets/colab-badge.svg\" alt=\"Open In Colab\"/></a>"
      ]
    },
    {
      "cell_type": "code",
      "execution_count": 4,
      "metadata": {
        "id": "W_C-pUP-j-8B"
      },
      "outputs": [],
      "source": [
        "import torch\n",
        "import torch.nn as nn\n",
        "import torch.nn.functional as F\n",
        "from torch.utils.data import DataLoader # Corrected 'Dataloader' to 'DataLoader'\n",
        "from torchvision import datasets, transforms\n",
        "from torchvision.utils import make_grid\n",
        "\n",
        "import numpy as np\n",
        "import pandas as pd\n",
        "from sklearn.metrics import confusion_matrix\n",
        "import matplotlib.pyplot as plt\n",
        "%matplotlib inline"
      ]
    },
    {
      "cell_type": "code",
      "source": [
        "# Convert MINST Image files into Tensor of 4-Dimension (# of images, Height, Width)\n",
        "transform = transforms.ToTensor()"
      ],
      "metadata": {
        "id": "nFZq_-u6k6AD"
      },
      "execution_count": 6,
      "outputs": []
    },
    {
      "cell_type": "code",
      "source": [
        "# Train Data\n",
        "train_data = datasets.MNIST(root='/cnn_data', train=True, download=True, transform=transform)"
      ],
      "metadata": {
        "colab": {
          "base_uri": "https://localhost:8080/"
        },
        "id": "cfiXBtvrlaBA",
        "outputId": "19336055-6238-4431-c482-19b8b943a1ba"
      },
      "execution_count": 7,
      "outputs": [
        {
          "output_type": "stream",
          "name": "stderr",
          "text": [
            "100%|██████████| 9.91M/9.91M [00:00<00:00, 34.2MB/s]\n",
            "100%|██████████| 28.9k/28.9k [00:00<00:00, 1.06MB/s]\n",
            "100%|██████████| 1.65M/1.65M [00:00<00:00, 8.28MB/s]\n",
            "100%|██████████| 4.54k/4.54k [00:00<00:00, 6.33MB/s]\n"
          ]
        }
      ]
    },
    {
      "cell_type": "code",
      "source": [
        "# Test Data\n",
        "# Train Data\n",
        "test_data = datasets.MNIST(root='/cnn_data', train=False, download=True, transform=transform)"
      ],
      "metadata": {
        "id": "-xIHbHcclrzY"
      },
      "execution_count": 8,
      "outputs": []
    },
    {
      "cell_type": "code",
      "source": [
        "train_data"
      ],
      "metadata": {
        "colab": {
          "base_uri": "https://localhost:8080/"
        },
        "id": "GoyKpfZhl5Tp",
        "outputId": "8f1db06f-6649-444e-fb93-fa3a389a3253"
      },
      "execution_count": 9,
      "outputs": [
        {
          "output_type": "execute_result",
          "data": {
            "text/plain": [
              "Dataset MNIST\n",
              "    Number of datapoints: 60000\n",
              "    Root location: /cnn_data\n",
              "    Split: Train\n",
              "    StandardTransform\n",
              "Transform: ToTensor()"
            ]
          },
          "metadata": {},
          "execution_count": 9
        }
      ]
    },
    {
      "cell_type": "code",
      "source": [
        "test_data"
      ],
      "metadata": {
        "colab": {
          "base_uri": "https://localhost:8080/"
        },
        "id": "jPNovL6il7LV",
        "outputId": "fd20e630-cc2c-4633-d0a4-9490b68025a4"
      },
      "execution_count": 10,
      "outputs": [
        {
          "output_type": "execute_result",
          "data": {
            "text/plain": [
              "Dataset MNIST\n",
              "    Number of datapoints: 10000\n",
              "    Root location: /cnn_data\n",
              "    Split: Test\n",
              "    StandardTransform\n",
              "Transform: ToTensor()"
            ]
          },
          "metadata": {},
          "execution_count": 10
        }
      ]
    },
    {
      "cell_type": "markdown",
      "source": [
        "# **Convolution Neural Network**"
      ],
      "metadata": {
        "id": "plNd5zGwm5xx"
      }
    },
    {
      "cell_type": "code",
      "source": [
        "# Create a small batch size for images..10 here\n",
        "train_loader = DataLoader(train_data, batch_size=10, shuffle=True)\n",
        "test_loader = DataLoader(test_data, batch_size=10, shuffle=False)"
      ],
      "metadata": {
        "id": "Lwk3fUlHl93x"
      },
      "execution_count": 15,
      "outputs": []
    },
    {
      "cell_type": "code",
      "source": [
        "# Define CNN Model\n",
        "# Describe Convolutional Layer -- 2 layers\n",
        "# input, output, kernel size, stride\n",
        "# no need of padding in this data\n",
        "conv1 = nn.Conv2d(1, 6, 3, 1)\n",
        "conv2 = nn.Conv2d(6, 16, 3, 1)"
      ],
      "metadata": {
        "id": "o7usNESvmNuk"
      },
      "execution_count": 37,
      "outputs": []
    },
    {
      "cell_type": "markdown",
      "source": [
        "Input channel is 1 because MNIST is grayscale data\n",
        "\n",
        "Else, it would have been 3 for RGB\n",
        "\n",
        "nn.Conv2d is the class for creating 2D convolutional layers."
      ],
      "metadata": {
        "id": "8DiXHDpAoYWp"
      }
    },
    {
      "cell_type": "code",
      "metadata": {
        "id": "e0b1636f"
      },
      "source": [
        "# Grab 1 MNIST record\n",
        "for i, (X_Train, y_train) in enumerate (train_data):\n",
        "  break"
      ],
      "execution_count": 38,
      "outputs": []
    },
    {
      "cell_type": "markdown",
      "source": [
        "This starts a loop that iterates through the train_data. enumerate() is used to get both the index (i) and the data for each item in the dataset. Each item from the train_data is a tuple containing an image (X_Train) and its corresponding label (y_train)."
      ],
      "metadata": {
        "id": "-uRlZUtZpKU_"
      }
    },
    {
      "cell_type": "markdown",
      "source": [
        "After this code runs, i will be 0, X_Train will hold the first image tensor, and y_train will hold the label for that image."
      ],
      "metadata": {
        "id": "3VL7m0ebpVQG"
      }
    },
    {
      "cell_type": "code",
      "source": [
        "X_Train.shape"
      ],
      "metadata": {
        "colab": {
          "base_uri": "https://localhost:8080/"
        },
        "id": "vzzXq3qno0G1",
        "outputId": "cfb6ef0e-8bdb-4910-92ae-e9f810b92f35"
      },
      "execution_count": 39,
      "outputs": [
        {
          "output_type": "execute_result",
          "data": {
            "text/plain": [
              "torch.Size([1, 28, 28])"
            ]
          },
          "metadata": {},
          "execution_count": 39
        }
      ]
    },
    {
      "cell_type": "markdown",
      "source": [
        "1 image of size 28x28"
      ],
      "metadata": {
        "id": "sxkAok2ypjaM"
      }
    },
    {
      "cell_type": "code",
      "source": [
        "x = X_Train.view(1,1,28,28)\n",
        "# 1 batch, 1 image of size 28x28"
      ],
      "metadata": {
        "id": "7YM9RXI7pcai"
      },
      "execution_count": 40,
      "outputs": []
    },
    {
      "cell_type": "code",
      "source": [
        "# Perform our first convolution\n",
        "x = F.relu(conv1(x)) # Rectified Linear Unit for our activation function"
      ],
      "metadata": {
        "id": "UQQqAoRXp61M"
      },
      "execution_count": 41,
      "outputs": []
    },
    {
      "cell_type": "code",
      "source": [
        "x.shape\n",
        "# 1 single image, 6 is filters we asked, 26x26 image"
      ],
      "metadata": {
        "colab": {
          "base_uri": "https://localhost:8080/"
        },
        "id": "U2ESJz-IprNc",
        "outputId": "3a7a58b6-0489-4735-b09d-ec559b201c6b"
      },
      "execution_count": 42,
      "outputs": [
        {
          "output_type": "execute_result",
          "data": {
            "text/plain": [
              "torch.Size([1, 6, 26, 26])"
            ]
          },
          "metadata": {},
          "execution_count": 42
        }
      ]
    },
    {
      "cell_type": "code",
      "source": [
        "# pass through the pooling layer\n",
        "x = F.max_pool2d(x,2,2) #x input, kernel of 2, stride of 2"
      ],
      "metadata": {
        "id": "5yF-3Z-AqJ0w"
      },
      "execution_count": 43,
      "outputs": []
    },
    {
      "cell_type": "code",
      "source": [
        "x.shape\n",
        "# 1 image, 6 filters , 26/2 = 13"
      ],
      "metadata": {
        "colab": {
          "base_uri": "https://localhost:8080/"
        },
        "id": "An6Oa9JgqvfG",
        "outputId": "3fa16e2f-0d60-44b4-fbcc-9194bfdbd2f1"
      },
      "execution_count": 44,
      "outputs": [
        {
          "output_type": "execute_result",
          "data": {
            "text/plain": [
              "torch.Size([1, 6, 13, 13])"
            ]
          },
          "metadata": {},
          "execution_count": 44
        }
      ]
    },
    {
      "cell_type": "code",
      "source": [
        "# Second convolution layer\n",
        "x = F.relu(conv2(x))"
      ],
      "metadata": {
        "id": "xHUbrgL-rCEe"
      },
      "execution_count": 45,
      "outputs": []
    },
    {
      "cell_type": "code",
      "source": [
        "x.shape # no passing so 2 pixels lost around image"
      ],
      "metadata": {
        "colab": {
          "base_uri": "https://localhost:8080/"
        },
        "id": "f7w7w7n6sR5B",
        "outputId": "86639536-5604-40d9-e961-f27ddba75f1e"
      },
      "execution_count": 47,
      "outputs": [
        {
          "output_type": "execute_result",
          "data": {
            "text/plain": [
              "torch.Size([1, 16, 11, 11])"
            ]
          },
          "metadata": {},
          "execution_count": 47
        }
      ]
    },
    {
      "cell_type": "code",
      "source": [
        "# Pooling layer\n",
        "x = F.max_pool2d(x,2,2)"
      ],
      "metadata": {
        "id": "npYOGZ09s5V-"
      },
      "execution_count": 48,
      "outputs": []
    },
    {
      "cell_type": "code",
      "source": [
        "x.shape #11/2 = 5.5 i.e. 5"
      ],
      "metadata": {
        "colab": {
          "base_uri": "https://localhost:8080/"
        },
        "id": "JzqMNMwktKeQ",
        "outputId": "f775989a-4b82-46a2-fe4f-7733fb0ca2bc"
      },
      "execution_count": 50,
      "outputs": [
        {
          "output_type": "execute_result",
          "data": {
            "text/plain": [
              "torch.Size([1, 16, 5, 5])"
            ]
          },
          "metadata": {},
          "execution_count": 50
        }
      ]
    },
    {
      "cell_type": "markdown",
      "source": [
        "28x28 -convolution layer-> 26x26 -pooling-> 13x13 -conv-> 11x11 -pooling-> 5x5"
      ],
      "metadata": {
        "id": "Ipoo0s3Rta_p"
      }
    },
    {
      "cell_type": "code",
      "source": [],
      "metadata": {
        "id": "EVUttWSstME0"
      },
      "execution_count": null,
      "outputs": []
    }
  ]
}